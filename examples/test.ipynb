{
 "cells": [
  {
   "cell_type": "code",
   "execution_count": null,
   "metadata": {},
   "outputs": [],
   "source": [
    "import crunch_cli\n",
    "%env WEB_BASE_URL=http://localhost:3002/\n",
    "%env API_BASE_URL=http://localhost:8000/"
   ]
  },
  {
   "cell_type": "code",
   "execution_count": null,
   "metadata": {},
   "outputs": [],
   "source": [
    "import pandas\n",
    "import typing"
   ]
  },
  {
   "cell_type": "code",
   "execution_count": null,
   "metadata": {},
   "outputs": [],
   "source": [
    "import sys\n",
    "crunch = crunch_cli.load_notebook(sys.modules[__name__])"
   ]
  },
  {
   "cell_type": "code",
   "execution_count": null,
   "metadata": {},
   "outputs": [],
   "source": [
    "def data_process(\n",
    "    x_train: pandas.DataFrame,\n",
    "    y_train: pandas.DataFrame,\n",
    "    x_test: pandas.DataFrame\n",
    ") -> typing.Tuple[pandas.DataFrame, pandas.DataFrame, pandas.DataFrame]:\n",
    "    \"\"\"\n",
    "    Do your data processing here.\n",
    "    This function will always be executed.\n",
    "    \"\"\"\n",
    "    \n",
    "    print(\"data_process\")\n",
    "    print(\"x_train\", len(x_train))\n",
    "    print(\"y_train\", len(y_train))\n",
    "    print(\"x_test\", len(x_test))\n",
    "\n",
    "    return x_train, y_train, x_test"
   ]
  },
  {
   "cell_type": "code",
   "execution_count": null,
   "metadata": {},
   "outputs": [],
   "source": [
    "x_train, y_train, x_test = crunch.call_process_data()\n",
    "len(x_train), len(y_train), len(x_test)"
   ]
  },
  {
   "cell_type": "code",
   "execution_count": null,
   "metadata": {},
   "outputs": [],
   "source": [
    "def train(\n",
    "    x_train: pandas.DataFrame,\n",
    "    y_train: pandas.DataFrame\n",
    ") -> pandas.DataFrame:\n",
    "    \"\"\"\n",
    "    Do your model training here.\n",
    "    This function will be executed in case of a retrain.\n",
    "    \n",
    "    If your model is too heavy to be trained in the time constraint,\n",
    "    you can create one manually and upload a pre-trained version.\n",
    "    This function can be safely removed in such a case.\n",
    "    \"\"\"\n",
    "    \n",
    "    print(\"train\")\n",
    "    print(\"x_train\", len(x_train))\n",
    "    print(\"y_train\", len(y_train))\n",
    "\n",
    "    return pandas.DataFrame()\n"
   ]
  },
  {
   "cell_type": "code",
   "execution_count": null,
   "metadata": {},
   "outputs": [],
   "source": [
    "model = crunch.call_train()\n",
    "len(model)"
   ]
  },
  {
   "cell_type": "code",
   "execution_count": null,
   "metadata": {},
   "outputs": [],
   "source": [
    "def infer(\n",
    "    model: pandas.DataFrame,\n",
    "    x_test: pandas.DataFrame\n",
    ") -> pandas.DataFrame:\n",
    "    \"\"\"\n",
    "    Do your inference here.\n",
    "    This function will always be executed.\n",
    "    \"\"\"\n",
    "    \n",
    "    print(\"infer\")\n",
    "    print(\"model\", len(model))\n",
    "    print(\"x_test\", len(x_test))\n",
    "\n",
    "    return pandas.DataFrame()\n"
   ]
  },
  {
   "cell_type": "code",
   "execution_count": null,
   "metadata": {},
   "outputs": [],
   "source": [
    "prediction = crunch.call_infer()\n",
    "len(prediction)"
   ]
  }
 ],
 "metadata": {
  "kernelspec": {
   "display_name": "Python 3",
   "language": "python",
   "name": "python3"
  },
  "language_info": {
   "codemirror_mode": {
    "name": "ipython",
    "version": 3
   },
   "file_extension": ".py",
   "mimetype": "text/x-python",
   "name": "python",
   "nbconvert_exporter": "python",
   "pygments_lexer": "ipython3",
   "version": "3.10.6"
  },
  "orig_nbformat": 4
 },
 "nbformat": 4,
 "nbformat_minor": 2
}
